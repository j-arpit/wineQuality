{
 "cells": [
  {
   "cell_type": "code",
   "execution_count": 1,
   "id": "524e0025-1ba5-4840-b70e-57eb3042b372",
   "metadata": {},
   "outputs": [],
   "source": [
    "# Variables for MLflow Tracking\n",
    "ExpName = \"wineQuality\""
   ]
  },
  {
   "cell_type": "code",
   "execution_count": 2,
   "id": "5ae75df1-01b5-4da4-825d-95cb1d765f9c",
   "metadata": {},
   "outputs": [],
   "source": [
    "import os\n",
    "import warnings\n",
    "import sys\n",
    "import json\n",
    "import pandas as pd\n",
    "import numpy as np\n",
    "from sklearn.metrics import mean_squared_error, mean_absolute_error, r2_score\n",
    "from sklearn.model_selection import train_test_split\n",
    "from sklearn.linear_model import ElasticNet\n",
    "from urllib.parse import urlparse"
   ]
  },
  {
   "cell_type": "code",
   "execution_count": 3,
   "id": "e96abde5-1d98-438c-a3cf-e36231eefd19",
   "metadata": {},
   "outputs": [],
   "source": [
    "warnings.filterwarnings(\"ignore\")\n",
    "\n",
    "csv_url = (\n",
    "    \"http://archive.ics.uci.edu/ml/machine-learning-databases/wine-quality/winequality-red.csv\"\n",
    ")\n",
    "try:\n",
    "    data = pd.read_csv(csv_url, sep=\";\")\n",
    "except Exception as e:\n",
    "    print(\n",
    "        \"Unable to download training & test CSV, check your internet connection. Error: %s\", e\n",
    "    )"
   ]
  },
  {
   "cell_type": "code",
   "execution_count": 4,
   "id": "e54f84ff-36b3-418e-9722-f9ac6cca9829",
   "metadata": {},
   "outputs": [],
   "source": [
    "#  Split the data into training and test sets. (0.75, 0.25) split.\n",
    "train, test = train_test_split(data)\n",
    "reference_data_path = \"reference_data.csv\"\n",
    "train.to_csv(reference_data_path, index=False)\n",
    "test.to_csv(\"test_data.csv\", index=False)\n",
    "# The predicted column is \"quality\" which is a scalar from [3, 9]\n",
    "train_x = train.drop([\"quality\"], axis=1)\n",
    "test_x = test.drop([\"quality\"], axis=1)\n",
    "train_y = train[[\"quality\"]]\n",
    "test_y = test[[\"quality\"]]"
   ]
  },
  {
   "cell_type": "code",
   "execution_count": 5,
   "id": "7b93aaf8-e329-481d-9235-71a44eddc9de",
   "metadata": {},
   "outputs": [],
   "source": [
    "def eval_metrics(actual, pred):\n",
    "    rmse = np.sqrt(mean_squared_error(actual, pred))\n",
    "    mae = mean_absolute_error(actual, pred)\n",
    "    r2 = r2_score(actual, pred)\n",
    "    return rmse, mae, r2"
   ]
  },
  {
   "cell_type": "code",
   "execution_count": 6,
   "id": "4937478e-4a64-4ff4-9cda-fff252e9a1c6",
   "metadata": {},
   "outputs": [],
   "source": [
    "alpha = 0.645345\n",
    "l1_ratio = 0.835345"
   ]
  },
  {
   "cell_type": "markdown",
   "id": "082dc697-a044-4f6e-a0db-92044767e4fa",
   "metadata": {},
   "source": [
    "### Mlflow Logging Section\n",
    "###### Add all the params and metrics here which you have used to train the Model here"
   ]
  },
  {
   "cell_type": "markdown",
   "id": "07eea463-8f61-41b9-9c4e-a3e7ae931fd0",
   "metadata": {
    "tags": []
   },
   "source": [
    "###### This is the start_run block make sure to save the code, commit it to the Git. The commit id will attached to this run_id"
   ]
  },
  {
   "cell_type": "code",
   "execution_count": 7,
   "id": "cffc09eb-98d6-4c9c-b628-a465f2ae8198",
   "metadata": {},
   "outputs": [
    {
     "name": "stderr",
     "output_type": "stream",
     "text": [
      "2025/01/31 00:44:56 INFO mlflow.tracking.fluent: Experiment with name 'wineQuality' does not exist. Creating a new experiment.\n"
     ]
    },
    {
     "name": "stdout",
     "output_type": "stream",
     "text": [
      "Elasticnet model (alpha=0.645345, l1_ratio=0.835345):\n",
      "  RMSE: 0.7675337595407139\n",
      "  MAE: 0.6294846222946662\n",
      "  R2: 0.042723314860736994\n"
     ]
    },
    {
     "name": "stderr",
     "output_type": "stream",
     "text": [
      "2025/01/31 00:45:01 WARNING mlflow.utils.requirements_utils: Detected one or more mismatches between the model's dependencies and the current Python environment:\n",
      " - mlflow (current: 2.11.3, required: mlflow==2.19.0)\n",
      "To fix the mismatches, call `mlflow.pyfunc.get_model_dependencies(model_uri)` to fetch the model's environment and install dependencies using the resulting environment file.\n",
      "Successfully registered model 'wineQuality_ElasticNet'.\n",
      "2025/01/31 00:45:02 INFO mlflow.store.model_registry.abstract_store: Waiting up to 300 seconds for model version to finish creation. Model name: wineQuality_ElasticNet, version 1\n",
      "Created version '1' of model 'wineQuality_ElasticNet'.\n"
     ]
    },
    {
     "name": "stdout",
     "output_type": "stream",
     "text": [
      "🏃 View run carefree-shrew-292 at: http://10.149.59.75:5000/#/experiments/9/runs/1bd6882ea69c48abbe7073c8167d1401\n",
      "🧪 View experiment at: http://10.149.59.75:5000/#/experiments/9\n"
     ]
    }
   ],
   "source": [
    "import mlflow\n",
    "import git \n",
    "from mlflow.utils.mlflow_tags import MLFLOW_GIT_COMMIT, MLFLOW_SOURCE_TYPE, MLFLOW_GIT_BRANCH, MLFLOW_GIT_REPO_URL, MLFLOW_SOURCE_NAME \n",
    "from mlflow.models.signature import infer_signature\n",
    "\n",
    "mlflow.set_experiment(ExpName)\n",
    "\n",
    "repo = git.Repo(\"\")\n",
    "with mlflow.start_run():\n",
    "    lr = ElasticNet(alpha=alpha, l1_ratio=l1_ratio, random_state=42)\n",
    "    lr.fit(train_x, train_y)\n",
    "\n",
    "    predicted_qualities = lr.predict(test_x)\n",
    "    (rmse, mae, r2) = eval_metrics(test_y, predicted_qualities)\n",
    "    \n",
    "    signature = infer_signature(train_x, lr.predict(train_x))\n",
    "    # Log the parameters used for the model fit\n",
    "\n",
    "    print(\"Elasticnet model (alpha=%f, l1_ratio=%f):\" % (alpha, l1_ratio))\n",
    "    print(\"  RMSE: %s\" % rmse)\n",
    "    print(\"  MAE: %s\" % mae)\n",
    "    print(\"  R2: %s\" % r2)\n",
    "    mlflow.log_param(\"alpha\", alpha)\n",
    "    mlflow.log_param(\"l1_ratio\", l1_ratio)\n",
    "    mlflow.log_metric(\"rmse\", rmse)\n",
    "    mlflow.log_metric(\"r2\", r2)\n",
    "    mlflow.log_metric(\"mae\", mae)\n",
    "    \n",
    "    mlflow.log_artifact(reference_data_path)\n",
    "    \n",
    "    tag = {MLFLOW_GIT_COMMIT: repo.head.commit, MLFLOW_SOURCE_TYPE:'GIT PROJECT', \n",
    "           MLFLOW_GIT_BRANCH:repo.active_branch, MLFLOW_SOURCE_NAME:repo.remote().url}\n",
    "\n",
    "    mlflow.set_tags(tag)\n",
    "    # Each Branch corresponds to one Registered Model in mlflow\n",
    "    model_name = repo.active_branch.name\n",
    "    mlflow.sklearn.log_model(lr, \"model\", registered_model_name=model_name, signature=signature)\n",
    "\n",
    "    # For evidently ai\n",
    "    column_mapping = {\n",
    "        \"prediction\": \"predicted\",  # Model output column\n",
    "        \"target\": \"quality\",  # Target column\n",
    "        \"numerical_features\": list(train_x.columns),  # List of all numerical features\n",
    "        \"categorical_features\": []  # No categorical columns\n",
    "    }\n",
    "    column_mapping_str = json.dumps(column_mapping)\n",
    "    mlflow.log_param(\"column_mapping\", column_mapping_str)"
   ]
  },
  {
   "cell_type": "code",
   "execution_count": null,
   "id": "e2a49986-d512-49f1-981f-daa235742117",
   "metadata": {},
   "outputs": [],
   "source": []
  }
 ],
 "metadata": {
  "kernelspec": {
   "display_name": "Python 3 (ipykernel)",
   "language": "python",
   "name": "python3"
  },
  "language_info": {
   "codemirror_mode": {
    "name": "ipython",
    "version": 3
   },
   "file_extension": ".py",
   "mimetype": "text/x-python",
   "name": "python",
   "nbconvert_exporter": "python",
   "pygments_lexer": "ipython3",
   "version": "3.11.10"
  }
 },
 "nbformat": 4,
 "nbformat_minor": 5
}
